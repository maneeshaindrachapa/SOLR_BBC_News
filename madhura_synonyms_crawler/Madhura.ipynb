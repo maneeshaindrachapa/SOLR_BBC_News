{
 "cells": [
  {
   "cell_type": "code",
   "execution_count": 1,
   "metadata": {},
   "outputs": [],
   "source": [
    "import pandas as pd \n",
    "import requests\n",
    "import openpyxl"
   ]
  },
  {
   "cell_type": "code",
   "execution_count": 2,
   "metadata": {},
   "outputs": [],
   "source": [
    "#web crawler madhura\n",
    "\n",
    "#get data in excel\n",
    "df1=pd.read_excel('dataset.xlsx')\n",
    "\n",
    "\n",
    "def html_to_frame(word):     \n",
    "  \n",
    "    url = 'https://www.maduraonline.com/?find='+word\n",
    "\n",
    "    header = {\n",
    "      \"User-Agent\": \"Mozilla/5.0 (X11; Linux x86_64) AppleWebKit/537.36 (KHTML, like Gecko) Chrome/50.0.2661.75 Safari/537.36\",\n",
    "      \"X-Requested-With\": \"XMLHttpRequest\"\n",
    "    }\n",
    "    \n",
    "    \n",
    "    r = requests.get(url, headers=header)\n",
    "\n",
    "    dfs = pd.read_html(r.text)[0]\n",
    "    \n",
    "    if(len(dfs.columns)>1):\n",
    "    \n",
    "        dfs.drop(columns=[0],inplace=True)\n",
    "        dfs.dropna(inplace=True)\n",
    "        dfs[word] =dfs[2] #dfs[word] = dfs[1]+dfs[2]\n",
    "        dfs.drop(columns=[1,2],inplace=True)\n",
    "        return dfs.T\n",
    "    else:\n",
    "        return dfs\n",
    "\n",
    "\n",
    "def write(word):\n",
    "    writer = pd.ExcelWriter('dataset.xlsx',engine='xlsxwriter')\n",
    "    df1=pd.read_excel('dataset.xlsx')\n",
    "    df1.to_excel(writer,startrow=0,index=False)\n",
    "    output = html_to_frame(word)\n",
    "    if(len(output.columns)>1):\n",
    "        output.to_excel(writer,startrow=len(df1)+1,header=False,index=True)\n",
    "        writer.save()\n",
    "    else:\n",
    "        print('Not found:'+ word)"
   ]
  },
  {
   "cell_type": "code",
   "execution_count": 3,
   "metadata": {},
   "outputs": [
    {
     "name": "stdout",
     "output_type": "stream",
     "text": [
      "Not found:an\n",
      "Not found:anyone\n",
      "Not found:anytime\n",
      "Not found:desk\n",
      "Not found:duty,each\n",
      "Not found:everyone\n",
      "Not found:everybody\n",
      "Not found:football\n",
      "Not found:goodbye\n",
      "Not found:hello\n",
      "Not found:hers\n",
      "Not found:his\n",
      "Not found:is\n",
      "Not found:me\n",
      "Not found:mill,million\n",
      "Not found:neither\n",
      "Not found:of\n",
      "Not found:potato\n",
      "Not found:rainy\n",
      "Not found:should\n",
      "Not found:someone\n",
      "Not found:tennis\n",
      "Not found:the\n",
      "Not found:their\n",
      "Not found:theirs\n",
      "Not found:twice\n",
      "Not found:we\n",
      "Not found:your\n",
      "Not found:yours\n"
     ]
    }
   ],
   "source": [
    "dataset = open(\"sampleDataset.txt\", \"r\")\n",
    "dataset =dataset.read()\n",
    "dataset =dataset.split(', ')\n",
    "for i in dataset:\n",
    "    write(i)"
   ]
  },
  {
   "cell_type": "code",
   "execution_count": null,
   "metadata": {},
   "outputs": [],
   "source": []
  }
 ],
 "metadata": {
  "kernelspec": {
   "display_name": "Python 3",
   "language": "python",
   "name": "python3"
  },
  "language_info": {
   "codemirror_mode": {
    "name": "ipython",
    "version": 3
   },
   "file_extension": ".py",
   "mimetype": "text/x-python",
   "name": "python",
   "nbconvert_exporter": "python",
   "pygments_lexer": "ipython3",
   "version": "3.6.5"
  }
 },
 "nbformat": 4,
 "nbformat_minor": 2
}
